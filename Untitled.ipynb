{
 "cells": [
  {
   "cell_type": "code",
   "execution_count": null,
   "id": "e4b5f815-a275-4f46-9e6f-65d0112c0e96",
   "metadata": {},
   "outputs": [],
   "source": []
  }
 ],
 "metadata": {
  "kernelspec": {
   "display_name": "",
   "name": ""
  },
  "language_info": {
   "name": ""
  }
 },
 "nbformat": 4,
 "nbformat_minor": 5
}
