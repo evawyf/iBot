{
 "cells": [
  {
   "cell_type": "markdown",
   "metadata": {},
   "source": [
    "# ibot dashboard"
   ]
  },
  {
   "cell_type": "code",
   "execution_count": 16,
   "metadata": {},
   "outputs": [],
   "source": [
    "from src.OrderManager import IBOrderManager\n",
    "from src.DataRealtimeBarGenerator import IBRealtimeDataBarGenerator\n",
    "from src.DataHistoricalBarCollector import IBHistoricalDataCollector\n",
    "from src.utils.clientid_assigner import ClientIDAssigner\n",
    "import asyncio\n",
    "import concurrent.futures\n",
    "import time\n",
    "import threading"
   ]
  },
  {
   "cell_type": "markdown",
   "metadata": {},
   "source": [
    "### Start Client ID Assginer"
   ]
  },
  {
   "cell_type": "code",
   "execution_count": 17,
   "metadata": {},
   "outputs": [
    {
     "name": "stdout",
     "output_type": "stream",
     "text": [
      "Assigned client ID 26 to task order_manager. \n",
      "Assigned client ID 30 to task realtime_data_generator. \n"
     ]
    },
    {
     "data": {
      "text/plain": [
       "{'order_manager': 26, 'realtime_data_generator': 30}"
      ]
     },
     "execution_count": 17,
     "metadata": {},
     "output_type": "execute_result"
    }
   ],
   "source": [
    "clients = [\"order_manager\", \"realtime_data_generator\"]\n",
    "assigner = ClientIDAssigner(clients)\n",
    "\n",
    "assigner.client_id_map"
   ]
  },
  {
   "cell_type": "markdown",
   "metadata": {},
   "source": [
    "### Start Order Manager"
   ]
  },
  {
   "cell_type": "code",
   "execution_count": 21,
   "metadata": {},
   "outputs": [],
   "source": [
    "PORT = 7497\n",
    "client_id = assigner.client_id_map[\"order_manager\"]\n",
    "\n",
    "order_manager = IBOrderManager(port=PORT, client_id=client_id)\n",
    "order_manager.ib_connect()"
   ]
  },
  {
   "cell_type": "code",
   "execution_count": 19,
   "metadata": {},
   "outputs": [
    {
     "name": "stdout",
     "output_type": "stream",
     "text": [
      "Disconnecting client task [OrderManager] ...\n",
      "Client disconnected.\n"
     ]
    }
   ],
   "source": [
    "order_manager.ib_disconnect()"
   ]
  },
  {
   "cell_type": "markdown",
   "metadata": {},
   "source": [
    "### Start real-time bar generator"
   ]
  },
  {
   "cell_type": "markdown",
   "metadata": {},
   "source": []
  }
 ],
 "metadata": {
  "kernelspec": {
   "display_name": "dev",
   "language": "python",
   "name": "python3"
  },
  "language_info": {
   "codemirror_mode": {
    "name": "ipython",
    "version": 3
   },
   "file_extension": ".py",
   "mimetype": "text/x-python",
   "name": "python",
   "nbconvert_exporter": "python",
   "pygments_lexer": "ipython3",
   "version": "3.11.5"
  }
 },
 "nbformat": 4,
 "nbformat_minor": 2
}
